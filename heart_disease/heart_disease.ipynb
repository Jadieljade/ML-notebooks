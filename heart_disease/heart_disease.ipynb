{
 "cells": [
  {
   "cell_type": "code",
   "execution_count": null,
   "id": "plain-explorer",
   "metadata": {
    "executionInfo": {
     "elapsed": 933,
     "status": "ok",
     "timestamp": 1663001513483,
     "user": {
      "displayName": "Aakash N S",
      "userId": "03254185060287524023"
     },
     "user_tz": -330
    },
    "id": "plain-explorer"
   },
   "outputs": [],
   "source": [
    "\n",
    "import matplotlib.pyplot as plt\n",
    "import seaborn as sns\n",
    "import pandas as pd\n",
    "import numpy as np\n",
    "import matplotlib\n",
    "from sklearn.model_selection import train_test_split\n",
    "from sklearn.preprocessing import MinMaxScaler\n",
    "from sklearn.tree import DecisionTreeClassifier\n",
    "from sklearn.ensemble import RandomForestClassifier\n",
    "%matplotlib inline\n",
    "\n",
    "pd.set_option('display.max_columns', None)\n",
    "pd.set_option('display.max_rows', 150)\n",
    "sns.set_style('darkgrid')\n",
    "matplotlib.rcParams['font.size'] = 14\n",
    "matplotlib.rcParams['figure.figsize'] = (10, 6)\n",
    "matplotlib.rcParams['figure.facecolor'] = '#00000000'"
   ]
  },
  {
   "cell_type": "code",
   "execution_count": null,
   "id": "established-smart",
   "metadata": {
    "executionInfo": {
     "elapsed": 471,
     "status": "ok",
     "timestamp": 1663001597886,
     "user": {
      "displayName": "Aakash N S",
      "userId": "03254185060287524023"
     },
     "user_tz": -330
    },
    "id": "established-smart"
   },
   "outputs": [],
   "source": [
    "heart_df = pd.read_csv('heart.csv')"
   ]
  },
  {
   "cell_type": "code",
   "execution_count": null,
   "id": "requested-occurrence",
   "metadata": {
    "colab": {
     "base_uri": "https://localhost:8080/",
     "height": 661
    },
    "executionInfo": {
     "elapsed": 4,
     "status": "ok",
     "timestamp": 1663001598808,
     "user": {
      "displayName": "Aakash N S",
      "userId": "03254185060287524023"
     },
     "user_tz": -330
    },
    "id": "requested-occurrence",
    "outputId": "79c9aa5a-b240-46bb-ce2b-69ba67d3c676"
   },
   "outputs": [],
   "source": [
    "heart_df"
   ]
  },
  {
   "cell_type": "code",
   "execution_count": null,
   "id": "deadly-murray",
   "metadata": {
    "colab": {
     "base_uri": "https://localhost:8080/"
    },
    "executionInfo": {
     "elapsed": 626,
     "status": "ok",
     "timestamp": 1663001601925,
     "user": {
      "displayName": "Aakash N S",
      "userId": "03254185060287524023"
     },
     "user_tz": -330
    },
    "id": "deadly-murray",
    "outputId": "dbba464c-f28d-46e9-ea88-4d815b4fe512"
   },
   "outputs": [],
   "source": [
    "heart_df.info()"
   ]
  },
  {
   "cell_type": "code",
   "execution_count": null,
   "id": "d0ab8f71-451a-47d1-8982-a5ba4a4ef391",
   "metadata": {},
   "outputs": [],
   "source": [
    "heart_df.describe()"
   ]
  },
  {
   "cell_type": "code",
   "execution_count": null,
   "id": "79eb5573-73cc-4294-939a-fb89a8ce5baa",
   "metadata": {},
   "outputs": [],
   "source": [
    "heart_df.tail()"
   ]
  },
  {
   "cell_type": "code",
   "execution_count": null,
   "id": "cff1acb8-23ff-4349-ba14-d635d4f9ccc1",
   "metadata": {},
   "outputs": [],
   "source": [
    "sns.pairplot(heart_df, hue = 'target', \n",
    "             vars = ['age', 'sex', 'cp', 'chol', 'thal'] )"
   ]
  },
  {
   "cell_type": "code",
   "execution_count": null,
   "id": "15e732b9-b832-4b1d-82ae-6eae046805dc",
   "metadata": {},
   "outputs": [],
   "source": [
    "sns.relplot(heart_df, y=\"chol\", x=\"target\")"
   ]
  },
  {
   "cell_type": "code",
   "execution_count": null,
   "id": "68516cde-a644-4f2d-8eb0-09541913d042",
   "metadata": {},
   "outputs": [],
   "source": [
    "sns.relplot(heart_df, x=\"age\", y=\"trestbps\", kind=\"line\")"
   ]
  },
  {
   "cell_type": "code",
   "execution_count": null,
   "id": "f3406691-57af-4d8e-88c3-28d4b52e98d5",
   "metadata": {},
   "outputs": [],
   "source": [
    "sns.displot(heart_df, x=\"oldpeak\",hue='target')"
   ]
  },
  {
   "cell_type": "code",
   "execution_count": null,
   "id": "31846f9e-431d-485a-88d1-82dbf383ff44",
   "metadata": {},
   "outputs": [],
   "source": [
    "heart_df.corr()"
   ]
  },
  {
   "cell_type": "code",
   "execution_count": null,
   "id": "musical-skating",
   "metadata": {
    "executionInfo": {
     "elapsed": 2,
     "status": "ok",
     "timestamp": 1663001630563,
     "user": {
      "displayName": "Aakash N S",
      "userId": "03254185060287524023"
     },
     "user_tz": -330
    },
    "id": "musical-skating"
   },
   "outputs": [],
   "source": [
    "input_cols = list(heart_df.columns)[1:-1]\n",
    "target_col = 'target'"
   ]
  },
  {
   "cell_type": "code",
   "execution_count": null,
   "id": "ca98e675-ad01-47e6-b509-d82242b1b394",
   "metadata": {},
   "outputs": [],
   "source": [
    "train_val_df, test_df = train_test_split(heart_df, test_size=0.2, random_state=42)\n",
    "\n",
    "train_df, val_df = train_test_split(train_val_df, test_size=0.25, random_state=42)"
   ]
  },
  {
   "cell_type": "code",
   "execution_count": null,
   "id": "6d0c16da-3a09-42c3-8624-2954e5490b24",
   "metadata": {},
   "outputs": [],
   "source": [
    "train_inputs, train_targets = train_df[input_cols].copy(), train_df[target_col].copy()\n",
    "val_inputs, val_targets = val_df[input_cols].copy(), val_df[target_col].copy()\n",
    "test_inputs, test_targets = test_df[input_cols].copy(), test_df[target_col].copy()"
   ]
  },
  {
   "cell_type": "code",
   "execution_count": null,
   "id": "9f5f0d17-8f1f-463e-a7b3-ffd659ca3a89",
   "metadata": {},
   "outputs": [],
   "source": [
    "scaler = MinMaxScaler()\n",
    "scaler.fit(heart_df[input_cols])"
   ]
  },
  {
   "cell_type": "code",
   "execution_count": null,
   "id": "08883c56-1522-4dc7-8ad6-45f622f2de32",
   "metadata": {},
   "outputs": [],
   "source": [
    "\n",
    "train_inputs = scaler.transform(train_inputs)\n",
    "val_inputs = scaler.transform(val_inputs)\n",
    "test_inputs = scaler.transform(test_inputs)"
   ]
  },
  {
   "cell_type": "code",
   "execution_count": null,
   "id": "1e94c4b0-b307-4696-b62b-b217d5005e51",
   "metadata": {},
   "outputs": [],
   "source": [
    "X_train = train_inputs\n",
    "X_val = val_inputs\n",
    "X_test = test_inputs"
   ]
  },
  {
   "cell_type": "code",
   "execution_count": null,
   "id": "activated-designer",
   "metadata": {
    "executionInfo": {
     "elapsed": 1,
     "status": "ok",
     "timestamp": 1663001684028,
     "user": {
      "displayName": "Aakash N S",
      "userId": "03254185060287524023"
     },
     "user_tz": -330
    },
    "id": "activated-designer"
   },
   "outputs": [],
   "source": [
    "model = DecisionTreeClassifier(random_state=42)"
   ]
  },
  {
   "cell_type": "code",
   "execution_count": null,
   "id": "superb-fight",
   "metadata": {
    "colab": {
     "base_uri": "https://localhost:8080/"
    },
    "executionInfo": {
     "elapsed": 3496,
     "status": "ok",
     "timestamp": 1663001688131,
     "user": {
      "displayName": "Aakash N S",
      "userId": "03254185060287524023"
     },
     "user_tz": -330
    },
    "id": "superb-fight",
    "outputId": "a1bf6b73-e226-4f45-b70f-35a5b597369f"
   },
   "outputs": [],
   "source": [
    "%%time\n",
    "model.fit(X_train, train_targets)"
   ]
  },
  {
   "cell_type": "code",
   "execution_count": null,
   "id": "ongoing-broadway",
   "metadata": {
    "executionInfo": {
     "elapsed": 4,
     "status": "ok",
     "timestamp": 1663001688132,
     "user": {
      "displayName": "Aakash N S",
      "userId": "03254185060287524023"
     },
     "user_tz": -330
    },
    "id": "ongoing-broadway"
   },
   "outputs": [],
   "source": [
    "from sklearn.metrics import accuracy_score, confusion_matrix"
   ]
  },
  {
   "cell_type": "code",
   "execution_count": null,
   "id": "religious-personality",
   "metadata": {
    "executionInfo": {
     "elapsed": 4,
     "status": "ok",
     "timestamp": 1663001688132,
     "user": {
      "displayName": "Aakash N S",
      "userId": "03254185060287524023"
     },
     "user_tz": -330
    },
    "id": "religious-personality"
   },
   "outputs": [],
   "source": [
    "train_preds = model.predict(X_train)"
   ]
  },
  {
   "cell_type": "code",
   "execution_count": null,
   "id": "invisible-medicaid",
   "metadata": {
    "colab": {
     "base_uri": "https://localhost:8080/"
    },
    "executionInfo": {
     "elapsed": 2,
     "status": "ok",
     "timestamp": 1663001688682,
     "user": {
      "displayName": "Aakash N S",
      "userId": "03254185060287524023"
     },
     "user_tz": -330
    },
    "id": "invisible-medicaid",
    "outputId": "f5433dd4-78d8-4019-fa46-281164439b4c"
   },
   "outputs": [],
   "source": [
    "train_preds"
   ]
  },
  {
   "cell_type": "code",
   "execution_count": null,
   "id": "demographic-guyana",
   "metadata": {
    "colab": {
     "base_uri": "https://localhost:8080/"
    },
    "executionInfo": {
     "elapsed": 2,
     "status": "ok",
     "timestamp": 1663001690018,
     "user": {
      "displayName": "Aakash N S",
      "userId": "03254185060287524023"
     },
     "user_tz": -330
    },
    "id": "demographic-guyana",
    "outputId": "1a7bc8af-90e0-43ae-d343-6e77af3b1193"
   },
   "outputs": [],
   "source": [
    "pd.Series(train_preds).value_counts()"
   ]
  },
  {
   "cell_type": "code",
   "execution_count": null,
   "id": "equipped-violin",
   "metadata": {
    "executionInfo": {
     "elapsed": 2,
     "status": "ok",
     "timestamp": 1663001692144,
     "user": {
      "displayName": "Aakash N S",
      "userId": "03254185060287524023"
     },
     "user_tz": -330
    },
    "id": "equipped-violin"
   },
   "outputs": [],
   "source": [
    "train_probs = model.predict_proba(X_train)"
   ]
  },
  {
   "cell_type": "code",
   "execution_count": null,
   "id": "involved-affair",
   "metadata": {
    "colab": {
     "base_uri": "https://localhost:8080/"
    },
    "executionInfo": {
     "elapsed": 2,
     "status": "ok",
     "timestamp": 1663001692489,
     "user": {
      "displayName": "Aakash N S",
      "userId": "03254185060287524023"
     },
     "user_tz": -330
    },
    "id": "involved-affair",
    "outputId": "ede91072-0b3a-4e3a-ac10-17cb3f972aa5"
   },
   "outputs": [],
   "source": [
    "train_probs"
   ]
  },
  {
   "cell_type": "code",
   "execution_count": null,
   "id": "psychological-wellington",
   "metadata": {
    "colab": {
     "base_uri": "https://localhost:8080/"
    },
    "executionInfo": {
     "elapsed": 333,
     "status": "ok",
     "timestamp": 1663001694892,
     "user": {
      "displayName": "Aakash N S",
      "userId": "03254185060287524023"
     },
     "user_tz": -330
    },
    "id": "psychological-wellington",
    "outputId": "7ae44bc0-4a2c-44a1-ba6e-7f7d5aea7d4c"
   },
   "outputs": [],
   "source": [
    "accuracy_score(train_targets, train_preds)"
   ]
  },
  {
   "cell_type": "code",
   "execution_count": null,
   "id": "logical-values",
   "metadata": {
    "colab": {
     "base_uri": "https://localhost:8080/"
    },
    "executionInfo": {
     "elapsed": 2,
     "status": "ok",
     "timestamp": 1663001696666,
     "user": {
      "displayName": "Aakash N S",
      "userId": "03254185060287524023"
     },
     "user_tz": -330
    },
    "id": "logical-values",
    "outputId": "ef9db1e3-5770-44f6-d1e7-132d76d58b18"
   },
   "outputs": [],
   "source": [
    "model.score(X_val, val_targets)"
   ]
  },
  {
   "cell_type": "code",
   "execution_count": null,
   "id": "original-national",
   "metadata": {
    "colab": {
     "base_uri": "https://localhost:8080/"
    },
    "executionInfo": {
     "elapsed": 3,
     "status": "ok",
     "timestamp": 1663001697964,
     "user": {
      "displayName": "Aakash N S",
      "userId": "03254185060287524023"
     },
     "user_tz": -330
    },
    "id": "original-national",
    "outputId": "d30a0d59-6b82-4cbf-f1d4-530df6825a8d"
   },
   "outputs": [],
   "source": [
    "val_targets.value_counts() / len(val_targets)"
   ]
  },
  {
   "cell_type": "markdown",
   "id": "promotional-third",
   "metadata": {
    "id": "promotional-third"
   },
   "source": [
    "### Visualization\n",
    "\n"
   ]
  },
  {
   "cell_type": "code",
   "execution_count": null,
   "id": "universal-catalog",
   "metadata": {
    "executionInfo": {
     "elapsed": 353,
     "status": "ok",
     "timestamp": 1663001702328,
     "user": {
      "displayName": "Aakash N S",
      "userId": "03254185060287524023"
     },
     "user_tz": -330
    },
    "id": "universal-catalog"
   },
   "outputs": [],
   "source": [
    "from sklearn.tree import plot_tree, export_text"
   ]
  },
  {
   "cell_type": "code",
   "execution_count": null,
   "id": "existing-bangkok",
   "metadata": {
    "colab": {
     "base_uri": "https://localhost:8080/",
     "height": 428
    },
    "executionInfo": {
     "elapsed": 3101,
     "status": "ok",
     "timestamp": 1663001707842,
     "user": {
      "displayName": "Aakash N S",
      "userId": "03254185060287524023"
     },
     "user_tz": -330
    },
    "id": "existing-bangkok",
    "outputId": "19ecb63a-9544-4ab1-f2f6-fd6294f1bf56"
   },
   "outputs": [],
   "source": [
    "plt.figure(figsize=(80,20))\n",
    "plot_tree(model, feature_names=train_df.columns, max_depth=2, filled=True);"
   ]
  },
  {
   "cell_type": "code",
   "execution_count": null,
   "id": "congressional-circle",
   "metadata": {
    "colab": {
     "base_uri": "https://localhost:8080/"
    },
    "executionInfo": {
     "elapsed": 3,
     "status": "ok",
     "timestamp": 1663001709423,
     "user": {
      "displayName": "Aakash N S",
      "userId": "03254185060287524023"
     },
     "user_tz": -330
    },
    "id": "congressional-circle",
    "outputId": "440a266a-9f87-4a52-c392-7fab7dac9168"
   },
   "outputs": [],
   "source": [
    "tree_text = export_text(model, max_depth=10, feature_names=list(heart_df[input_cols]))\n",
    "print(tree_text[:5000])"
   ]
  },
  {
   "cell_type": "code",
   "execution_count": null,
   "id": "ambient-commons",
   "metadata": {
    "colab": {
     "base_uri": "https://localhost:8080/"
    },
    "executionInfo": {
     "elapsed": 2,
     "status": "ok",
     "timestamp": 1663001717932,
     "user": {
      "displayName": "Aakash N S",
      "userId": "03254185060287524023"
     },
     "user_tz": -330
    },
    "id": "ambient-commons",
    "outputId": "17253dc0-804f-45f8-83eb-9aed44510140"
   },
   "outputs": [],
   "source": [
    "model.feature_importances_"
   ]
  },
  {
   "cell_type": "code",
   "execution_count": null,
   "id": "meaning-stake",
   "metadata": {
    "executionInfo": {
     "elapsed": 2,
     "status": "ok",
     "timestamp": 1663001719959,
     "user": {
      "displayName": "Aakash N S",
      "userId": "03254185060287524023"
     },
     "user_tz": -330
    },
    "id": "meaning-stake"
   },
   "outputs": [],
   "source": [
    "importance_df = pd.DataFrame({\n",
    "    'feature': input_cols,\n",
    "    'importance': model.feature_importances_\n",
    "}).sort_values('importance', ascending=False)"
   ]
  },
  {
   "cell_type": "code",
   "execution_count": null,
   "id": "unique-symphony",
   "metadata": {
    "colab": {
     "base_uri": "https://localhost:8080/",
     "height": 363
    },
    "executionInfo": {
     "elapsed": 4,
     "status": "ok",
     "timestamp": 1663001721894,
     "user": {
      "displayName": "Aakash N S",
      "userId": "03254185060287524023"
     },
     "user_tz": -330
    },
    "id": "unique-symphony",
    "outputId": "d4249270-049e-444b-b3d1-8318a3faf7fc"
   },
   "outputs": [],
   "source": [
    "importance_df.head(10)"
   ]
  },
  {
   "cell_type": "code",
   "execution_count": null,
   "id": "fatty-biotechnology",
   "metadata": {
    "colab": {
     "base_uri": "https://localhost:8080/",
     "height": 416
    },
    "executionInfo": {
     "elapsed": 729,
     "status": "ok",
     "timestamp": 1663001722956,
     "user": {
      "displayName": "Aakash N S",
      "userId": "03254185060287524023"
     },
     "user_tz": -330
    },
    "id": "fatty-biotechnology",
    "outputId": "8ca31aea-4569-4ada-af7e-616f42e5abfb"
   },
   "outputs": [],
   "source": [
    "plt.title('Feature Importance')\n",
    "sns.barplot(data=importance_df.head(10), x='importance', y='feature');"
   ]
  },
  {
   "cell_type": "code",
   "execution_count": null,
   "id": "specialized-appearance",
   "metadata": {
    "executionInfo": {
     "elapsed": 359,
     "status": "ok",
     "timestamp": 1663001760104,
     "user": {
      "displayName": "Aakash N S",
      "userId": "03254185060287524023"
     },
     "user_tz": -330
    },
    "id": "specialized-appearance"
   },
   "outputs": [],
   "source": [
    "model = DecisionTreeClassifier(max_depth=3, random_state=42)"
   ]
  },
  {
   "cell_type": "code",
   "execution_count": null,
   "id": "professional-consultancy",
   "metadata": {
    "colab": {
     "base_uri": "https://localhost:8080/"
    },
    "executionInfo": {
     "elapsed": 706,
     "status": "ok",
     "timestamp": 1663001762730,
     "user": {
      "displayName": "Aakash N S",
      "userId": "03254185060287524023"
     },
     "user_tz": -330
    },
    "id": "professional-consultancy",
    "outputId": "106905ea-86f9-43f3-c21a-ac0160b3e403"
   },
   "outputs": [],
   "source": [
    "model.fit(X_train, train_targets)"
   ]
  },
  {
   "cell_type": "code",
   "execution_count": null,
   "id": "applicable-retirement",
   "metadata": {
    "colab": {
     "base_uri": "https://localhost:8080/"
    },
    "executionInfo": {
     "elapsed": 1071,
     "status": "ok",
     "timestamp": 1663001767579,
     "user": {
      "displayName": "Aakash N S",
      "userId": "03254185060287524023"
     },
     "user_tz": -330
    },
    "id": "applicable-retirement",
    "outputId": "e1ff610c-9d66-4e08-80f8-59e08bd866ea"
   },
   "outputs": [],
   "source": [
    "model.score(X_train, train_targets)"
   ]
  },
  {
   "cell_type": "code",
   "execution_count": null,
   "id": "detected-temperature",
   "metadata": {
    "colab": {
     "base_uri": "https://localhost:8080/"
    },
    "executionInfo": {
     "elapsed": 2,
     "status": "ok",
     "timestamp": 1663001768588,
     "user": {
      "displayName": "Aakash N S",
      "userId": "03254185060287524023"
     },
     "user_tz": -330
    },
    "id": "detected-temperature",
    "outputId": "5fe68319-6036-4664-c29b-627f087d58cb"
   },
   "outputs": [],
   "source": [
    "model.score(X_val, val_targets)"
   ]
  },
  {
   "cell_type": "code",
   "execution_count": null,
   "id": "legendary-commodity",
   "metadata": {
    "colab": {
     "base_uri": "https://localhost:8080/"
    },
    "executionInfo": {
     "elapsed": 601,
     "status": "ok",
     "timestamp": 1663001771520,
     "user": {
      "displayName": "Aakash N S",
      "userId": "03254185060287524023"
     },
     "user_tz": -330
    },
    "id": "legendary-commodity",
    "outputId": "25a462ca-5184-4c44-b97a-63136ba0488e"
   },
   "outputs": [],
   "source": [
    "model.classes_"
   ]
  },
  {
   "cell_type": "code",
   "execution_count": null,
   "id": "accessory-ireland",
   "metadata": {
    "colab": {
     "base_uri": "https://localhost:8080/",
     "height": 428
    },
    "executionInfo": {
     "elapsed": 2558,
     "status": "ok",
     "timestamp": 1663001774860,
     "user": {
      "displayName": "Aakash N S",
      "userId": "03254185060287524023"
     },
     "user_tz": -330
    },
    "id": "accessory-ireland",
    "outputId": "e08fe76f-687f-43a4-97d6-7979aac7ea51"
   },
   "outputs": [],
   "source": [
    "plt.figure(figsize=(80,20))\n",
    "plot_tree(model, feature_names=train_df.columns, max_depth=2, filled=True);"
   ]
  },
  {
   "cell_type": "code",
   "execution_count": null,
   "id": "coral-payment",
   "metadata": {
    "colab": {
     "base_uri": "https://localhost:8080/"
    },
    "executionInfo": {
     "elapsed": 10,
     "status": "ok",
     "timestamp": 1663001774861,
     "user": {
      "displayName": "Aakash N S",
      "userId": "03254185060287524023"
     },
     "user_tz": -330
    },
    "id": "coral-payment",
    "outputId": "411b1749-7959-459b-fb14-4e79bd29e22e"
   },
   "outputs": [],
   "source": [
    "print(export_text(model, feature_names=list(heart_df[input_cols])))"
   ]
  },
  {
   "cell_type": "code",
   "execution_count": null,
   "id": "tutorial-coating",
   "metadata": {
    "executionInfo": {
     "elapsed": 5,
     "status": "ok",
     "timestamp": 1663001774861,
     "user": {
      "displayName": "Aakash N S",
      "userId": "03254185060287524023"
     },
     "user_tz": -330
    },
    "id": "tutorial-coating"
   },
   "outputs": [],
   "source": [
    "def max_depth_error(md):\n",
    "    model = DecisionTreeClassifier(max_depth=md, random_state=42)\n",
    "    model.fit(X_train, train_targets)\n",
    "    train_acc = 1 - model.score(X_train, train_targets)\n",
    "    val_acc = 1 - model.score(X_val, val_targets)\n",
    "    return {'Max Depth': md, 'Training Error': train_acc, 'Validation Error': val_acc}"
   ]
  },
  {
   "cell_type": "code",
   "execution_count": null,
   "id": "elegant-nothing",
   "metadata": {
    "colab": {
     "base_uri": "https://localhost:8080/"
    },
    "executionInfo": {
     "elapsed": 40562,
     "status": "ok",
     "timestamp": 1663001816000,
     "user": {
      "displayName": "Aakash N S",
      "userId": "03254185060287524023"
     },
     "user_tz": -330
    },
    "id": "elegant-nothing",
    "outputId": "4e6c1675-c7ed-4442-a3d0-1e03890cd43e"
   },
   "outputs": [],
   "source": [
    "%%time\n",
    "errors_df = pd.DataFrame([max_depth_error(md) for md in range(1, 21)])"
   ]
  },
  {
   "cell_type": "code",
   "execution_count": null,
   "id": "answering-climate",
   "metadata": {
    "colab": {
     "base_uri": "https://localhost:8080/",
     "height": 677
    },
    "executionInfo": {
     "elapsed": 24,
     "status": "ok",
     "timestamp": 1663001816000,
     "user": {
      "displayName": "Aakash N S",
      "userId": "03254185060287524023"
     },
     "user_tz": -330
    },
    "id": "answering-climate",
    "outputId": "de0f4e9f-7672-433d-d801-1841dbdbc868"
   },
   "outputs": [],
   "source": [
    "errors_df"
   ]
  },
  {
   "cell_type": "code",
   "execution_count": null,
   "id": "expanded-external",
   "metadata": {
    "colab": {
     "base_uri": "https://localhost:8080/",
     "height": 434
    },
    "executionInfo": {
     "elapsed": 1795,
     "status": "ok",
     "timestamp": 1663001817783,
     "user": {
      "displayName": "Aakash N S",
      "userId": "03254185060287524023"
     },
     "user_tz": -330
    },
    "id": "expanded-external",
    "outputId": "d9f6d278-fba4-483d-e4b3-5aa720893534"
   },
   "outputs": [],
   "source": [
    "plt.figure()\n",
    "plt.plot(errors_df['Max Depth'], errors_df['Training Error'])\n",
    "plt.plot(errors_df['Max Depth'], errors_df['Validation Error'])\n",
    "plt.title('Training vs. Validation Error')\n",
    "plt.xticks(range(0,21, 2))\n",
    "plt.xlabel('Max. Depth')\n",
    "plt.ylabel('Prediction Error (1 - Accuracy)')\n",
    "plt.legend(['Training', 'Validation'])"
   ]
  },
  {
   "cell_type": "code",
   "execution_count": null,
   "id": "biblical-tourist",
   "metadata": {
    "colab": {
     "base_uri": "https://localhost:8080/"
    },
    "executionInfo": {
     "elapsed": 9,
     "status": "ok",
     "timestamp": 1663001817783,
     "user": {
      "displayName": "Aakash N S",
      "userId": "03254185060287524023"
     },
     "user_tz": -330
    },
    "id": "biblical-tourist",
    "outputId": "16e6a47e-d518-4e35-ff32-b114fade8116"
   },
   "outputs": [],
   "source": [
    "model = DecisionTreeClassifier(max_depth=7, random_state=42).fit(X_train, train_targets)\n",
    "model.score(X_val, val_targets)"
   ]
  },
  {
   "cell_type": "code",
   "execution_count": null,
   "id": "patent-durham",
   "metadata": {
    "executionInfo": {
     "elapsed": 5,
     "status": "ok",
     "timestamp": 1663001817783,
     "user": {
      "displayName": "Aakash N S",
      "userId": "03254185060287524023"
     },
     "user_tz": -330
    },
    "id": "patent-durham"
   },
   "outputs": [],
   "source": [
    "model = DecisionTreeClassifier(max_leaf_nodes=128, random_state=42)"
   ]
  },
  {
   "cell_type": "code",
   "execution_count": null,
   "id": "gorgeous-clothing",
   "metadata": {
    "colab": {
     "base_uri": "https://localhost:8080/"
    },
    "executionInfo": {
     "elapsed": 1652,
     "status": "ok",
     "timestamp": 1663001819431,
     "user": {
      "displayName": "Aakash N S",
      "userId": "03254185060287524023"
     },
     "user_tz": -330
    },
    "id": "gorgeous-clothing",
    "outputId": "53417e14-ae1b-4e56-d3c0-f8e82ca73aef"
   },
   "outputs": [],
   "source": [
    "model.fit(X_train, train_targets)"
   ]
  },
  {
   "cell_type": "code",
   "execution_count": null,
   "id": "clinical-hands",
   "metadata": {
    "colab": {
     "base_uri": "https://localhost:8080/"
    },
    "executionInfo": {
     "elapsed": 1457,
     "status": "ok",
     "timestamp": 1663001820886,
     "user": {
      "displayName": "Aakash N S",
      "userId": "03254185060287524023"
     },
     "user_tz": -330
    },
    "id": "clinical-hands",
    "outputId": "d233ae96-025d-4c20-e6e4-3276ebff7670"
   },
   "outputs": [],
   "source": [
    "model.score(X_train, train_targets)"
   ]
  },
  {
   "cell_type": "code",
   "execution_count": null,
   "id": "digital-belgium",
   "metadata": {
    "colab": {
     "base_uri": "https://localhost:8080/"
    },
    "executionInfo": {
     "elapsed": 9,
     "status": "ok",
     "timestamp": 1663001820886,
     "user": {
      "displayName": "Aakash N S",
      "userId": "03254185060287524023"
     },
     "user_tz": -330
    },
    "id": "digital-belgium",
    "outputId": "098eb181-dab4-4f3b-a7e0-383365239946"
   },
   "outputs": [],
   "source": [
    "model.score(X_val, val_targets)"
   ]
  },
  {
   "cell_type": "code",
   "execution_count": null,
   "id": "corporate-glenn",
   "metadata": {
    "colab": {
     "base_uri": "https://localhost:8080/"
    },
    "executionInfo": {
     "elapsed": 5,
     "status": "ok",
     "timestamp": 1663001820886,
     "user": {
      "displayName": "Aakash N S",
      "userId": "03254185060287524023"
     },
     "user_tz": -330
    },
    "id": "corporate-glenn",
    "outputId": "77d812f1-98a5-48a0-cf44-a0769041b9b4"
   },
   "outputs": [],
   "source": [
    "model.tree_.max_depth"
   ]
  },
  {
   "cell_type": "code",
   "execution_count": null,
   "id": "grand-interface",
   "metadata": {
    "colab": {
     "base_uri": "https://localhost:8080/"
    },
    "executionInfo": {
     "elapsed": 3,
     "status": "ok",
     "timestamp": 1663001828789,
     "user": {
      "displayName": "Aakash N S",
      "userId": "03254185060287524023"
     },
     "user_tz": -330
    },
    "id": "grand-interface",
    "outputId": "84c1de42-bf98-411c-ac64-985775641d55"
   },
   "outputs": [],
   "source": [
    "model_text = export_text(model, feature_names=list(heart_df[input_cols]))\n",
    "print(model_text[:3000])"
   ]
  },
  {
   "cell_type": "markdown",
   "id": "bibliographic-correlation",
   "metadata": {
    "id": "bibliographic-correlation"
   },
   "source": [
    "## Training a Random Forest"
   ]
  },
  {
   "cell_type": "code",
   "execution_count": null,
   "id": "sufficient-stick",
   "metadata": {
    "executionInfo": {
     "elapsed": 6,
     "status": "ok",
     "timestamp": 1663001840092,
     "user": {
      "displayName": "Aakash N S",
      "userId": "03254185060287524023"
     },
     "user_tz": -330
    },
    "id": "sufficient-stick"
   },
   "outputs": [],
   "source": [
    "model = RandomForestClassifier(n_jobs=-1, random_state=42)"
   ]
  },
  {
   "cell_type": "code",
   "execution_count": null,
   "id": "alpha-stable",
   "metadata": {
    "colab": {
     "base_uri": "https://localhost:8080/"
    },
    "executionInfo": {
     "elapsed": 18903,
     "status": "ok",
     "timestamp": 1663001858990,
     "user": {
      "displayName": "Aakash N S",
      "userId": "03254185060287524023"
     },
     "user_tz": -330
    },
    "id": "alpha-stable",
    "outputId": "f4caefae-f636-4996-85f0-6e44c7add972"
   },
   "outputs": [],
   "source": [
    "%%time\n",
    "model.fit(X_train, train_targets)"
   ]
  },
  {
   "cell_type": "code",
   "execution_count": null,
   "id": "advanced-evidence",
   "metadata": {
    "colab": {
     "base_uri": "https://localhost:8080/"
    },
    "executionInfo": {
     "elapsed": 2885,
     "status": "ok",
     "timestamp": 1663001861863,
     "user": {
      "displayName": "Aakash N S",
      "userId": "03254185060287524023"
     },
     "user_tz": -330
    },
    "id": "advanced-evidence",
    "outputId": "ef94ff6e-6f95-408a-c69b-18e4c6d46f83"
   },
   "outputs": [],
   "source": [
    "model.score(X_train, train_targets)"
   ]
  },
  {
   "cell_type": "code",
   "execution_count": null,
   "id": "optimum-flash",
   "metadata": {
    "colab": {
     "base_uri": "https://localhost:8080/"
    },
    "executionInfo": {
     "elapsed": 731,
     "status": "ok",
     "timestamp": 1663001862591,
     "user": {
      "displayName": "Aakash N S",
      "userId": "03254185060287524023"
     },
     "user_tz": -330
    },
    "id": "optimum-flash",
    "outputId": "bfc99a86-a6e9-4d30-fac5-544f0f17a4f3"
   },
   "outputs": [],
   "source": [
    "model.score(X_val, val_targets)"
   ]
  },
  {
   "cell_type": "code",
   "execution_count": null,
   "id": "major-aquatic",
   "metadata": {
    "colab": {
     "base_uri": "https://localhost:8080/"
    },
    "executionInfo": {
     "elapsed": 2644,
     "status": "ok",
     "timestamp": 1663001869762,
     "user": {
      "displayName": "Aakash N S",
      "userId": "03254185060287524023"
     },
     "user_tz": -330
    },
    "id": "major-aquatic",
    "outputId": "3cece0d9-5415-4155-b32f-a3220ba64935"
   },
   "outputs": [],
   "source": [
    "train_probs = model.predict_proba(X_train)\n",
    "train_probs"
   ]
  },
  {
   "cell_type": "code",
   "execution_count": null,
   "id": "harmful-pizza",
   "metadata": {
    "colab": {
     "base_uri": "https://localhost:8080/"
    },
    "executionInfo": {
     "elapsed": 5,
     "status": "ok",
     "timestamp": 1663001869762,
     "user": {
      "displayName": "Aakash N S",
      "userId": "03254185060287524023"
     },
     "user_tz": -330
    },
    "id": "harmful-pizza",
    "outputId": "ea639562-2c4a-40b7-988a-12bab697cac0"
   },
   "outputs": [],
   "source": [
    "model.estimators_[0]"
   ]
  },
  {
   "cell_type": "code",
   "execution_count": null,
   "id": "naked-receipt",
   "metadata": {
    "colab": {
     "base_uri": "https://localhost:8080/",
     "height": 428
    },
    "executionInfo": {
     "elapsed": 2843,
     "status": "ok",
     "timestamp": 1663001872602,
     "user": {
      "displayName": "Aakash N S",
      "userId": "03254185060287524023"
     },
     "user_tz": -330
    },
    "id": "naked-receipt",
    "outputId": "626f09d3-4eab-4f1f-b0aa-f523727f20c3"
   },
   "outputs": [],
   "source": [
    "plt.figure(figsize=(80,20))\n",
    "plot_tree(model.estimators_[0], max_depth=2, feature_names=train_df.columns, filled=True, rounded=True);"
   ]
  },
  {
   "cell_type": "code",
   "execution_count": null,
   "id": "secret-mason",
   "metadata": {
    "colab": {
     "base_uri": "https://localhost:8080/",
     "height": 428
    },
    "executionInfo": {
     "elapsed": 2316,
     "status": "ok",
     "timestamp": 1663001874914,
     "user": {
      "displayName": "Aakash N S",
      "userId": "03254185060287524023"
     },
     "user_tz": -330
    },
    "id": "secret-mason",
    "outputId": "92754367-2a4e-4e65-dee1-cbb1de4bf74a"
   },
   "outputs": [],
   "source": [
    "plt.figure(figsize=(80,20))\n",
    "plot_tree(model.estimators_[20], max_depth=2, feature_names=train_df.columns, filled=True, rounded=True);"
   ]
  },
  {
   "cell_type": "code",
   "execution_count": null,
   "id": "valid-palestine",
   "metadata": {
    "colab": {
     "base_uri": "https://localhost:8080/"
    },
    "executionInfo": {
     "elapsed": 8,
     "status": "ok",
     "timestamp": 1663001874915,
     "user": {
      "displayName": "Aakash N S",
      "userId": "03254185060287524023"
     },
     "user_tz": -330
    },
    "id": "valid-palestine",
    "outputId": "db52d6a7-f45c-4a84-8688-658768b8bd99"
   },
   "outputs": [],
   "source": [
    "len(model.estimators_)"
   ]
  },
  {
   "cell_type": "code",
   "execution_count": null,
   "id": "urban-neutral",
   "metadata": {
    "executionInfo": {
     "elapsed": 619,
     "status": "ok",
     "timestamp": 1663001879002,
     "user": {
      "displayName": "Aakash N S",
      "userId": "03254185060287524023"
     },
     "user_tz": -330
    },
    "id": "urban-neutral"
   },
   "outputs": [],
   "source": [
    "importance_df = pd.DataFrame({\n",
    "    'feature': input_cols,\n",
    "    'importance': model.feature_importances_\n",
    "}).sort_values('importance', ascending=False)"
   ]
  },
  {
   "cell_type": "code",
   "execution_count": null,
   "id": "outer-position",
   "metadata": {
    "colab": {
     "base_uri": "https://localhost:8080/",
     "height": 363
    },
    "executionInfo": {
     "elapsed": 10,
     "status": "ok",
     "timestamp": 1663001879002,
     "user": {
      "displayName": "Aakash N S",
      "userId": "03254185060287524023"
     },
     "user_tz": -330
    },
    "id": "outer-position",
    "outputId": "56be2b9b-3fa0-452d-ac18-98779c4d8391"
   },
   "outputs": [],
   "source": [
    "importance_df.head(10)"
   ]
  },
  {
   "cell_type": "code",
   "execution_count": null,
   "id": "perfect-alias",
   "metadata": {
    "colab": {
     "base_uri": "https://localhost:8080/",
     "height": 416
    },
    "executionInfo": {
     "elapsed": 1449,
     "status": "ok",
     "timestamp": 1663001880443,
     "user": {
      "displayName": "Aakash N S",
      "userId": "03254185060287524023"
     },
     "user_tz": -330
    },
    "id": "perfect-alias",
    "outputId": "e377b892-7720-4f29-e08b-b7c82617f253"
   },
   "outputs": [],
   "source": [
    "plt.title('Feature Importance')\n",
    "sns.barplot(data=importance_df.head(10), x='importance', y='feature');"
   ]
  },
  {
   "cell_type": "code",
   "execution_count": null,
   "id": "nasty-officer",
   "metadata": {
    "executionInfo": {
     "elapsed": 18956,
     "status": "ok",
     "timestamp": 1663001908750,
     "user": {
      "displayName": "Aakash N S",
      "userId": "03254185060287524023"
     },
     "user_tz": -330
    },
    "id": "nasty-officer"
   },
   "outputs": [],
   "source": [
    "base_model = RandomForestClassifier(random_state=42, n_jobs=-1).fit(X_train, train_targets)"
   ]
  },
  {
   "cell_type": "code",
   "execution_count": null,
   "id": "bound-sheep",
   "metadata": {
    "executionInfo": {
     "elapsed": 3109,
     "status": "ok",
     "timestamp": 1663001911846,
     "user": {
      "displayName": "Aakash N S",
      "userId": "03254185060287524023"
     },
     "user_tz": -330
    },
    "id": "bound-sheep"
   },
   "outputs": [],
   "source": [
    "base_train_acc = base_model.score(X_train, train_targets)\n",
    "base_val_acc = base_model.score(X_val, val_targets)"
   ]
  },
  {
   "cell_type": "code",
   "execution_count": null,
   "id": "hidden-squad",
   "metadata": {
    "colab": {
     "base_uri": "https://localhost:8080/"
    },
    "executionInfo": {
     "elapsed": 4,
     "status": "ok",
     "timestamp": 1663001911847,
     "user": {
      "displayName": "Aakash N S",
      "userId": "03254185060287524023"
     },
     "user_tz": -330
    },
    "id": "hidden-squad",
    "outputId": "727ed728-e59c-4f27-9840-cbf0c916a46c"
   },
   "outputs": [],
   "source": [
    "base_accs = base_train_acc, base_val_acc\n",
    "base_accs"
   ]
  },
  {
   "cell_type": "code",
   "execution_count": null,
   "id": "complicated-roller",
   "metadata": {
    "executionInfo": {
     "elapsed": 654,
     "status": "ok",
     "timestamp": 1663001914109,
     "user": {
      "displayName": "Aakash N S",
      "userId": "03254185060287524023"
     },
     "user_tz": -330
    },
    "id": "complicated-roller"
   },
   "outputs": [],
   "source": [
    "model = RandomForestClassifier(random_state=42, n_jobs=-1, n_estimators=10)"
   ]
  },
  {
   "cell_type": "code",
   "execution_count": null,
   "id": "spanish-familiar",
   "metadata": {
    "colab": {
     "base_uri": "https://localhost:8080/"
    },
    "executionInfo": {
     "elapsed": 1517,
     "status": "ok",
     "timestamp": 1663001916149,
     "user": {
      "displayName": "Aakash N S",
      "userId": "03254185060287524023"
     },
     "user_tz": -330
    },
    "id": "spanish-familiar",
    "outputId": "6af84f99-7718-4397-e8b4-8f406c2b281a",
    "scrolled": true
   },
   "outputs": [],
   "source": [
    "model.fit(X_train, train_targets)"
   ]
  },
  {
   "cell_type": "code",
   "execution_count": null,
   "id": "illegal-turkish",
   "metadata": {
    "colab": {
     "base_uri": "https://localhost:8080/"
    },
    "executionInfo": {
     "elapsed": 922,
     "status": "ok",
     "timestamp": 1663001917069,
     "user": {
      "displayName": "Aakash N S",
      "userId": "03254185060287524023"
     },
     "user_tz": -330
    },
    "id": "illegal-turkish",
    "outputId": "630db4c7-d1c8-48a5-ca04-bd847915273d"
   },
   "outputs": [],
   "source": [
    "model.score(X_train, train_targets), model.score(X_val, val_targets)"
   ]
  },
  {
   "cell_type": "code",
   "execution_count": null,
   "id": "catholic-alabama",
   "metadata": {
    "colab": {
     "base_uri": "https://localhost:8080/"
    },
    "executionInfo": {
     "elapsed": 6,
     "status": "ok",
     "timestamp": 1663001917069,
     "user": {
      "displayName": "Aakash N S",
      "userId": "03254185060287524023"
     },
     "user_tz": -330
    },
    "id": "catholic-alabama",
    "outputId": "a0d2d84e-370f-495b-9aca-0b13b3a07fc4"
   },
   "outputs": [],
   "source": [
    "base_accs"
   ]
  },
  {
   "cell_type": "code",
   "execution_count": null,
   "id": "narrative-prayer",
   "metadata": {
    "colab": {
     "base_uri": "https://localhost:8080/"
    },
    "executionInfo": {
     "elapsed": 94026,
     "status": "ok",
     "timestamp": 1663002016003,
     "user": {
      "displayName": "Aakash N S",
      "userId": "03254185060287524023"
     },
     "user_tz": -330
    },
    "id": "narrative-prayer",
    "outputId": "d1dca902-0194-4b0a-cc31-d4a302f9f646"
   },
   "outputs": [],
   "source": [
    "model = RandomForestClassifier(random_state=42, n_jobs=-1, n_estimators=500)\n",
    "model.fit(X_train, train_targets)"
   ]
  },
  {
   "cell_type": "code",
   "execution_count": null,
   "id": "legislative-export",
   "metadata": {
    "colab": {
     "base_uri": "https://localhost:8080/"
    },
    "executionInfo": {
     "elapsed": 11955,
     "status": "ok",
     "timestamp": 1663002027950,
     "user": {
      "displayName": "Aakash N S",
      "userId": "03254185060287524023"
     },
     "user_tz": -330
    },
    "id": "legislative-export",
    "outputId": "b901f536-12fe-42f2-d33f-f014fc97f833"
   },
   "outputs": [],
   "source": [
    "model.score(X_train, train_targets)"
   ]
  },
  {
   "cell_type": "code",
   "execution_count": null,
   "id": "impressive-guide",
   "metadata": {
    "colab": {
     "base_uri": "https://localhost:8080/"
    },
    "executionInfo": {
     "elapsed": 2593,
     "status": "ok",
     "timestamp": 1663002030530,
     "user": {
      "displayName": "Aakash N S",
      "userId": "03254185060287524023"
     },
     "user_tz": -330
    },
    "id": "impressive-guide",
    "outputId": "1f7fefc9-f4d2-440d-bcfb-81a26b680f00"
   },
   "outputs": [],
   "source": [
    "model.score(X_val, val_targets)"
   ]
  },
  {
   "cell_type": "code",
   "execution_count": null,
   "id": "tribal-storm",
   "metadata": {
    "colab": {
     "base_uri": "https://localhost:8080/"
    },
    "executionInfo": {
     "elapsed": 6,
     "status": "ok",
     "timestamp": 1663002030531,
     "user": {
      "displayName": "Aakash N S",
      "userId": "03254185060287524023"
     },
     "user_tz": -330
    },
    "id": "tribal-storm",
    "outputId": "e104e723-d7f7-4fe5-f697-3dc6b536d471"
   },
   "outputs": [],
   "source": [
    "base_accs"
   ]
  },
  {
   "cell_type": "code",
   "execution_count": null,
   "id": "forbidden-society",
   "metadata": {
    "executionInfo": {
     "elapsed": 358,
     "status": "ok",
     "timestamp": 1663002045679,
     "user": {
      "displayName": "Aakash N S",
      "userId": "03254185060287524023"
     },
     "user_tz": -330
    },
    "id": "forbidden-society"
   },
   "outputs": [],
   "source": [
    "def test_params(**params):\n",
    "    model = RandomForestClassifier(random_state=42, n_jobs=-1, **params).fit(X_train, train_targets)\n",
    "    return model.score(X_train, train_targets), model.score(X_val, val_targets)"
   ]
  },
  {
   "cell_type": "code",
   "execution_count": null,
   "id": "handled-sentence",
   "metadata": {
    "colab": {
     "base_uri": "https://localhost:8080/"
    },
    "executionInfo": {
     "elapsed": 6305,
     "status": "ok",
     "timestamp": 1663002084491,
     "user": {
      "displayName": "Aakash N S",
      "userId": "03254185060287524023"
     },
     "user_tz": -330
    },
    "id": "handled-sentence",
    "outputId": "6c0059ac-28bc-410a-977b-e074caed0f5c"
   },
   "outputs": [],
   "source": [
    "test_params(max_depth=5)"
   ]
  },
  {
   "cell_type": "code",
   "execution_count": null,
   "id": "addressed-virtue",
   "metadata": {
    "colab": {
     "base_uri": "https://localhost:8080/"
    },
    "executionInfo": {
     "elapsed": 19980,
     "status": "ok",
     "timestamp": 1663002104468,
     "user": {
      "displayName": "Aakash N S",
      "userId": "03254185060287524023"
     },
     "user_tz": -330
    },
    "id": "addressed-virtue",
    "outputId": "605aa124-67dc-4d43-edc4-b5d3e99ccc4a"
   },
   "outputs": [],
   "source": [
    "test_params(max_depth=26)"
   ]
  },
  {
   "cell_type": "code",
   "execution_count": null,
   "id": "geological-portsmouth",
   "metadata": {
    "colab": {
     "base_uri": "https://localhost:8080/"
    },
    "executionInfo": {
     "elapsed": 6300,
     "status": "ok",
     "timestamp": 1663002110755,
     "user": {
      "displayName": "Aakash N S",
      "userId": "03254185060287524023"
     },
     "user_tz": -330
    },
    "id": "geological-portsmouth",
    "outputId": "227c5d0f-1d31-4b22-b27a-22510a6ac008"
   },
   "outputs": [],
   "source": [
    "test_params(max_leaf_nodes=2**5)"
   ]
  },
  {
   "cell_type": "code",
   "execution_count": null,
   "id": "functioning-virtue",
   "metadata": {
    "colab": {
     "base_uri": "https://localhost:8080/"
    },
    "executionInfo": {
     "elapsed": 24594,
     "status": "ok",
     "timestamp": 1663002135324,
     "user": {
      "displayName": "Aakash N S",
      "userId": "03254185060287524023"
     },
     "user_tz": -330
    },
    "id": "functioning-virtue",
    "outputId": "d69942f4-3967-4941-ffe7-aa0654a1aa5b"
   },
   "outputs": [],
   "source": [
    "test_params(max_leaf_nodes=2**20)"
   ]
  },
  {
   "cell_type": "code",
   "execution_count": null,
   "id": "renewable-berkeley",
   "metadata": {
    "colab": {
     "base_uri": "https://localhost:8080/"
    },
    "executionInfo": {
     "elapsed": 15,
     "status": "ok",
     "timestamp": 1663002135325,
     "user": {
      "displayName": "Aakash N S",
      "userId": "03254185060287524023"
     },
     "user_tz": -330
    },
    "id": "renewable-berkeley",
    "outputId": "2a01947e-2982-4d97-c317-9b5dc917ed4e"
   },
   "outputs": [],
   "source": [
    "base_accs # no max depth or max leaf nodes"
   ]
  },
  {
   "cell_type": "code",
   "execution_count": null,
   "id": "victorian-assurance",
   "metadata": {
    "colab": {
     "base_uri": "https://localhost:8080/"
    },
    "executionInfo": {
     "elapsed": 17953,
     "status": "ok",
     "timestamp": 1663002159038,
     "user": {
      "displayName": "Aakash N S",
      "userId": "03254185060287524023"
     },
     "user_tz": -330
    },
    "id": "victorian-assurance",
    "outputId": "0debc1cc-7c65-4153-e43d-24fae525529d"
   },
   "outputs": [],
   "source": [
    "test_params(max_features='log2')"
   ]
  },
  {
   "cell_type": "code",
   "execution_count": null,
   "id": "invisible-complement",
   "metadata": {
    "colab": {
     "base_uri": "https://localhost:8080/"
    },
    "executionInfo": {
     "elapsed": 20488,
     "status": "ok",
     "timestamp": 1663002179523,
     "user": {
      "displayName": "Aakash N S",
      "userId": "03254185060287524023"
     },
     "user_tz": -330
    },
    "id": "invisible-complement",
    "outputId": "3af8e108-d549-457a-d936-3289f4fbdec0"
   },
   "outputs": [],
   "source": [
    "test_params(max_features=3)"
   ]
  },
  {
   "cell_type": "code",
   "execution_count": null,
   "id": "sonic-davis",
   "metadata": {
    "colab": {
     "base_uri": "https://localhost:8080/"
    },
    "executionInfo": {
     "elapsed": 22526,
     "status": "ok",
     "timestamp": 1663002202035,
     "user": {
      "displayName": "Aakash N S",
      "userId": "03254185060287524023"
     },
     "user_tz": -330
    },
    "id": "sonic-davis",
    "outputId": "ec8b419a-2a7f-425c-e1b4-69970e95121d"
   },
   "outputs": [],
   "source": [
    "test_params(max_features=6)"
   ]
  },
  {
   "cell_type": "code",
   "execution_count": null,
   "id": "typical-delivery",
   "metadata": {
    "colab": {
     "base_uri": "https://localhost:8080/"
    },
    "executionInfo": {
     "elapsed": 18,
     "status": "ok",
     "timestamp": 1663002202036,
     "user": {
      "displayName": "Aakash N S",
      "userId": "03254185060287524023"
     },
     "user_tz": -330
    },
    "id": "typical-delivery",
    "outputId": "4e610a7a-2ea8-441c-e7f3-9e7cec3bca05"
   },
   "outputs": [],
   "source": [
    "base_accs"
   ]
  },
  {
   "cell_type": "code",
   "execution_count": null,
   "id": "latter-teddy",
   "metadata": {
    "colab": {
     "base_uri": "https://localhost:8080/"
    },
    "executionInfo": {
     "elapsed": 20744,
     "status": "ok",
     "timestamp": 1663002240755,
     "user": {
      "displayName": "Aakash N S",
      "userId": "03254185060287524023"
     },
     "user_tz": -330
    },
    "id": "latter-teddy",
    "outputId": "09c2648f-2c80-46b2-cb21-43d10bafb2b4"
   },
   "outputs": [],
   "source": [
    "test_params(min_samples_split=3, min_samples_leaf=2)"
   ]
  },
  {
   "cell_type": "code",
   "execution_count": null,
   "id": "conventional-abuse",
   "metadata": {
    "colab": {
     "base_uri": "https://localhost:8080/"
    },
    "executionInfo": {
     "elapsed": 12652,
     "status": "ok",
     "timestamp": 1663002253404,
     "user": {
      "displayName": "Aakash N S",
      "userId": "03254185060287524023"
     },
     "user_tz": -330
    },
    "id": "conventional-abuse",
    "outputId": "3a00e509-1c0a-44b4-fcc6-2acd03dd2750"
   },
   "outputs": [],
   "source": [
    "test_params(min_samples_split=100, min_samples_leaf=60)"
   ]
  },
  {
   "cell_type": "code",
   "execution_count": null,
   "id": "earned-particle",
   "metadata": {
    "colab": {
     "base_uri": "https://localhost:8080/"
    },
    "executionInfo": {
     "elapsed": 6,
     "status": "ok",
     "timestamp": 1663002253404,
     "user": {
      "displayName": "Aakash N S",
      "userId": "03254185060287524023"
     },
     "user_tz": -330
    },
    "id": "earned-particle",
    "outputId": "8e2b6cb8-85fe-41e0-9779-ad7f9bf48712"
   },
   "outputs": [],
   "source": [
    "base_accs"
   ]
  },
  {
   "cell_type": "code",
   "execution_count": null,
   "id": "flexible-surprise",
   "metadata": {
    "colab": {
     "base_uri": "https://localhost:8080/"
    },
    "executionInfo": {
     "elapsed": 20857,
     "status": "ok",
     "timestamp": 1663002274259,
     "user": {
      "displayName": "Aakash N S",
      "userId": "03254185060287524023"
     },
     "user_tz": -330
    },
    "id": "flexible-surprise",
    "outputId": "a4dc094a-dfe2-436c-bd6a-3d51c5330ffa"
   },
   "outputs": [],
   "source": [
    "test_params(min_impurity_decrease=1e-7)"
   ]
  },
  {
   "cell_type": "code",
   "execution_count": null,
   "id": "parental-northeast",
   "metadata": {
    "colab": {
     "base_uri": "https://localhost:8080/"
    },
    "executionInfo": {
     "elapsed": 3481,
     "status": "ok",
     "timestamp": 1663002277738,
     "user": {
      "displayName": "Aakash N S",
      "userId": "03254185060287524023"
     },
     "user_tz": -330
    },
    "id": "parental-northeast",
    "outputId": "d99949d6-61bb-40ad-c029-7ef13dd83c4a"
   },
   "outputs": [],
   "source": [
    "test_params(min_impurity_decrease=1e-2)"
   ]
  },
  {
   "cell_type": "code",
   "execution_count": null,
   "id": "provincial-number",
   "metadata": {
    "colab": {
     "base_uri": "https://localhost:8080/"
    },
    "executionInfo": {
     "elapsed": 18,
     "status": "ok",
     "timestamp": 1663002277739,
     "user": {
      "displayName": "Aakash N S",
      "userId": "03254185060287524023"
     },
     "user_tz": -330
    },
    "id": "provincial-number",
    "outputId": "23e68b0c-5605-41e5-c689-783afd39b74a"
   },
   "outputs": [],
   "source": [
    "base_accs"
   ]
  },
  {
   "cell_type": "code",
   "execution_count": null,
   "id": "dirty-biodiversity",
   "metadata": {
    "colab": {
     "base_uri": "https://localhost:8080/"
    },
    "executionInfo": {
     "elapsed": 30556,
     "status": "ok",
     "timestamp": 1663002310962,
     "user": {
      "displayName": "Aakash N S",
      "userId": "03254185060287524023"
     },
     "user_tz": -330
    },
    "id": "dirty-biodiversity",
    "outputId": "71e40ba7-9d36-4546-b319-8baf4bb8998f"
   },
   "outputs": [],
   "source": [
    "test_params(bootstrap=False)"
   ]
  },
  {
   "cell_type": "code",
   "execution_count": null,
   "id": "hollow-martin",
   "metadata": {
    "colab": {
     "base_uri": "https://localhost:8080/"
    },
    "executionInfo": {
     "elapsed": 15,
     "status": "ok",
     "timestamp": 1663002310963,
     "user": {
      "displayName": "Aakash N S",
      "userId": "03254185060287524023"
     },
     "user_tz": -330
    },
    "id": "hollow-martin",
    "outputId": "83fa44ee-82aa-447b-eccd-88b28262c0e1"
   },
   "outputs": [],
   "source": [
    "base_accs"
   ]
  },
  {
   "cell_type": "code",
   "execution_count": null,
   "id": "commercial-nightmare",
   "metadata": {
    "colab": {
     "base_uri": "https://localhost:8080/"
    },
    "executionInfo": {
     "elapsed": 22360,
     "status": "ok",
     "timestamp": 1663002333310,
     "user": {
      "displayName": "Aakash N S",
      "userId": "03254185060287524023"
     },
     "user_tz": -330
    },
    "id": "commercial-nightmare",
    "outputId": "2fa45e0e-25ba-41a5-9690-413b99a4d1dc"
   },
   "outputs": [],
   "source": [
    "test_params(max_samples=0.9)"
   ]
  },
  {
   "cell_type": "code",
   "execution_count": null,
   "id": "elder-income",
   "metadata": {
    "executionInfo": {
     "elapsed": 15,
     "status": "ok",
     "timestamp": 1663002375841,
     "user": {
      "displayName": "Aakash N S",
      "userId": "03254185060287524023"
     },
     "user_tz": -330
    },
    "id": "elder-income"
   },
   "outputs": [],
   "source": [
    "model = RandomForestClassifier(n_jobs=-1, \n",
    "                               random_state=42, \n",
    "                               n_estimators=500,\n",
    "                               max_features=7,\n",
    "                               max_depth=30, \n",
    "                               class_weight={'No': 1, 'Yes': 1.5})"
   ]
  },
  {
   "cell_type": "code",
   "execution_count": null,
   "id": "legitimate-opera",
   "metadata": {
    "executionInfo": {
     "elapsed": 4,
     "status": "ok",
     "timestamp": 1663002476574,
     "user": {
      "displayName": "Aakash N S",
      "userId": "03254185060287524023"
     },
     "user_tz": -330
    },
    "id": "legitimate-opera"
   },
   "outputs": [],
   "source": [
    "import joblib"
   ]
  },
  {
   "cell_type": "code",
   "execution_count": null,
   "id": "competitive-windows",
   "metadata": {
    "executionInfo": {
     "elapsed": 4,
     "status": "ok",
     "timestamp": 1663002476575,
     "user": {
      "displayName": "Aakash N S",
      "userId": "03254185060287524023"
     },
     "user_tz": -330
    },
    "id": "competitive-windows"
   },
   "outputs": [],
   "source": [
    "heart_disease = {\n",
    "    'model': model,\n",
    "    'scaler': scaler,\n",
    "    'input_cols': input_cols,\n",
    "    'target_col': target_col}\n",
    "   "
   ]
  },
  {
   "cell_type": "code",
   "execution_count": null,
   "id": "worth-toronto",
   "metadata": {
    "colab": {
     "base_uri": "https://localhost:8080/"
    },
    "executionInfo": {
     "elapsed": 3601,
     "status": "ok",
     "timestamp": 1663002481200,
     "user": {
      "displayName": "Aakash N S",
      "userId": "03254185060287524023"
     },
     "user_tz": -330
    },
    "id": "worth-toronto",
    "outputId": "c8a68069-4759-4584-bb48-6a5cb3a2cf90"
   },
   "outputs": [],
   "source": [
    "joblib.dump(heart_disease, 'heart_disease.joblib')"
   ]
  }
 ],
 "metadata": {
  "colab": {
   "collapsed_sections": [
    "documented-disney"
   ],
   "provenance": []
  },
  "kernelspec": {
   "display_name": "Python 3 (ipykernel)",
   "language": "python",
   "name": "python3"
  },
  "language_info": {
   "codemirror_mode": {
    "name": "ipython",
    "version": 3
   },
   "file_extension": ".py",
   "mimetype": "text/x-python",
   "name": "python",
   "nbconvert_exporter": "python",
   "pygments_lexer": "ipython3",
   "version": "3.11.5"
  }
 },
 "nbformat": 4,
 "nbformat_minor": 5
}
